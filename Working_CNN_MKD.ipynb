{
 "cells": [
  {
   "cell_type": "code",
   "execution_count": 7,
   "metadata": {
    "colab": {
     "base_uri": "https://localhost:8080/"
    },
    "executionInfo": {
     "elapsed": 190408,
     "status": "ok",
     "timestamp": 1605899795993,
     "user": {
      "displayName": "Michael Dermksian",
      "photoUrl": "",
      "userId": "14270846950039046636"
     },
     "user_tz": 300
    },
    "id": "5egb7MvRyOli",
    "outputId": "6ff40403-a78c-4bbf-f473-fdb9481c6558"
   },
   "outputs": [
    {
     "name": "stdout",
     "output_type": "stream",
     "text": [
      "Found 1396 images belonging to 5 classes.\n",
      "Found 348 images belonging to 5 classes.\n"
     ]
    }
   ],
   "source": [
    "import tensorflow as tf\n",
    "import numpy as np\n",
    "from tensorflow.keras import layers\n",
    "import matplotlib.pyplot as plt\n",
    "from PIL import Image\n",
    "import os, sys\n",
    "from keras.optimizers import SGD\n",
    "import tensorflow.compat.v1.keras.backend as K\n",
    "from keras.models import Sequential\n",
    "from keras.layers import Dense, Conv2D, MaxPooling2D, Dropout, Flatten\n",
    "from keras.optimizers import Adam\n",
    "from tensorflow.keras.preprocessing.image import ImageDataGenerator\n",
    "\n",
    "img_height = 560\n",
    "img_width = 372\n",
    "batch_size = 50\n",
    "train_data_dir = \"./DATASET\"\n",
    "\n",
    "train_datagen = ImageDataGenerator(\n",
    "#     rescale=1./255,\n",
    "#     shear_range=0.2,\n",
    "#     zoom_range=0.2,\n",
    "#     horizontal_flip=True,\n",
    "    validation_split=0.2) # set validation split\n",
    "\n",
    "train_generator = train_datagen.flow_from_directory(\n",
    "    train_data_dir,\n",
    "    target_size=(img_height, img_width),\n",
    "    batch_size=batch_size,\n",
    "    class_mode='binary',\n",
    "    subset='training') # set as training data\n",
    "\n",
    "validation_generator = train_datagen.flow_from_directory(\n",
    "    train_data_dir, # same directory as training data\n",
    "    target_size=(img_height, img_width),\n",
    "    batch_size=batch_size,\n",
    "    class_mode='binary',\n",
    "    subset='validation') # set as validation data\n",
    "\n",
    "num_classes = 5"
   ]
  },
  {
   "cell_type": "code",
   "execution_count": null,
   "metadata": {
    "colab": {
     "base_uri": "https://localhost:8080/"
    },
    "id": "00Y3EZN1kfEx",
    "outputId": "864b1c00-01d3-4be0-93a5-5ab28b5f89f6"
   },
   "outputs": [
    {
     "name": "stdout",
     "output_type": "stream",
     "text": [
      "Model: \"sequential_3\"\n",
      "_________________________________________________________________\n",
      "Layer (type)                 Output Shape              Param #   \n",
      "=================================================================\n",
      "conv2d_12 (Conv2D)           (None, 187, 124, 80)      29120     \n",
      "_________________________________________________________________\n",
      "batch_normalization_12 (Batc (None, 187, 124, 80)      320       \n",
      "_________________________________________________________________\n",
      "max_pooling2d_9 (MaxPooling2 (None, 93, 61, 80)        0         \n",
      "_________________________________________________________________\n",
      "conv2d_13 (Conv2D)           (None, 93, 61, 160)       320160    \n",
      "_________________________________________________________________\n",
      "batch_normalization_13 (Batc (None, 93, 61, 160)       640       \n",
      "_________________________________________________________________\n",
      "average_pooling2d_3 (Average (None, 46, 30, 160)       0         \n",
      "_________________________________________________________________\n",
      "conv2d_14 (Conv2D)           (None, 46, 30, 320)       461120    \n",
      "_________________________________________________________________\n",
      "batch_normalization_14 (Batc (None, 46, 30, 320)       1280      \n",
      "_________________________________________________________________\n",
      "max_pooling2d_10 (MaxPooling (None, 15, 10, 320)       0         \n",
      "_________________________________________________________________\n",
      "conv2d_15 (Conv2D)           (None, 15, 10, 160)       1280160   \n",
      "_________________________________________________________________\n",
      "batch_normalization_15 (Batc (None, 15, 10, 160)       640       \n",
      "_________________________________________________________________\n",
      "max_pooling2d_11 (MaxPooling (None, 7, 4, 160)         0         \n",
      "_________________________________________________________________\n",
      "flatten_3 (Flatten)          (None, 4480)              0         \n",
      "_________________________________________________________________\n",
      "dense_12 (Dense)             (None, 5000)              22405000  \n",
      "_________________________________________________________________\n",
      "dropout_9 (Dropout)          (None, 5000)              0         \n",
      "_________________________________________________________________\n",
      "dense_13 (Dense)             (None, 2500)              12502500  \n",
      "_________________________________________________________________\n",
      "dropout_10 (Dropout)         (None, 2500)              0         \n",
      "_________________________________________________________________\n",
      "dense_14 (Dense)             (None, 500)               1250500   \n",
      "_________________________________________________________________\n",
      "dropout_11 (Dropout)         (None, 500)               0         \n",
      "_________________________________________________________________\n",
      "dense_15 (Dense)             (None, 5)                 2505      \n",
      "=================================================================\n",
      "Total params: 38,253,945\n",
      "Trainable params: 38,252,505\n",
      "Non-trainable params: 1,440\n",
      "_________________________________________________________________\n",
      "Epoch 1/300\n",
      "28/28 [==============================] - 66s 2s/step - loss: 1.5657 - accuracy: 0.3446 - val_loss: 1.6195 - val_accuracy: 0.1810\n",
      "Epoch 2/300\n",
      "28/28 [==============================] - 63s 2s/step - loss: 1.2423 - accuracy: 0.5709 - val_loss: 1.6484 - val_accuracy: 0.1954\n",
      "Epoch 3/300\n",
      "28/28 [==============================] - 62s 2s/step - loss: 1.1735 - accuracy: 0.5716 - val_loss: 1.6388 - val_accuracy: 0.1983\n",
      "Epoch 4/300\n",
      "28/28 [==============================] - 64s 2s/step - loss: 1.1472 - accuracy: 0.5738 - val_loss: 1.5196 - val_accuracy: 0.1983\n",
      "Epoch 5/300\n",
      "28/28 [==============================] - 65s 2s/step - loss: 1.1221 - accuracy: 0.5709 - val_loss: 1.5049 - val_accuracy: 0.2011\n",
      "Epoch 6/300\n",
      "28/28 [==============================] - 67s 2s/step - loss: 1.1231 - accuracy: 0.5788 - val_loss: 1.3436 - val_accuracy: 0.4080\n",
      "Epoch 7/300\n",
      " 8/28 [=======>......................] - ETA: 30s - loss: 1.1177 - accuracy: 0.5657"
     ]
    }
   ],
   "source": [
    "#Model 1\n",
    "\n",
    "model = tf.keras.Sequential([\n",
    "#   layers.experimental.preprocessing.Rescaling(1./255, input_shape=(330, 335, 3)),\n",
    "  layers.Conv2D(80, kernel_size =(11,11),strides=(3,3), input_shape=(img_height,img_width,3), activation='relu', padding= 'same'),\n",
    "  layers.BatchNormalization(),\n",
    "  layers.MaxPooling2D((3,3),strides=(2,2)),\n",
    "  layers.Conv2D(160, kernel_size =(5,5), activation='relu',padding= 'same'),\n",
    "  layers.BatchNormalization(),\n",
    "  layers.AveragePooling2D((3,3),strides=(2,2)),\n",
    "  layers.Conv2D(320, (3,3), activation='relu',padding= 'same'),\n",
    "  layers.BatchNormalization(),\n",
    "  layers.MaxPooling2D((3,3)),\n",
    "  layers.Conv2D(160, kernel_size =(5,5), activation='relu',padding= 'same'),\n",
    "  layers.BatchNormalization(),\n",
    "  layers.MaxPooling2D((3,3),strides=(2,2)),\n",
    "  layers.Flatten(),\n",
    "  layers.Dense(5000, activation='relu'),\n",
    "  layers.Dropout(.30),\n",
    "  layers.Dense(2500, activation=('relu')),\n",
    "  layers.Dropout(.30),\n",
    "  layers.Dense(500, activation='sigmoid'),\n",
    "  layers.Dropout(.30),\n",
    "  layers.Dense(num_classes,activation='relu')\n",
    "])\n",
    "opt = SGD(lr=0.001)\n",
    "model.compile(\n",
    "  optimizer= opt,\n",
    "  loss=tf.losses.SparseCategoricalCrossentropy(from_logits=True),\n",
    "  metrics=['accuracy'])\n",
    "\n",
    "model.summary()\n",
    "\n",
    "model.fit(\n",
    "    train_generator,\n",
    "#     steps_per_epoch = train_generator.samples // batch_size,\n",
    "    validation_data = validation_generator, \n",
    "#     validation_steps = validation_generator.samples // batch_size,\n",
    "    epochs = 300)\n",
    "\n",
    "#score = model.evaluate(X_test, Y_test, verbose=1)"
   ]
  }
 ],
 "metadata": {
  "accelerator": "GPU",
  "colab": {
   "collapsed_sections": [],
   "name": "Working_CNN_MKD.ipynb",
   "provenance": []
  },
  "kernelspec": {
   "display_name": "Python 3",
   "language": "python",
   "name": "python3"
  },
  "language_info": {
   "codemirror_mode": {
    "name": "ipython",
    "version": 3
   },
   "file_extension": ".py",
   "mimetype": "text/x-python",
   "name": "python",
   "nbconvert_exporter": "python",
   "pygments_lexer": "ipython3",
   "version": "3.7.6"
  }
 },
 "nbformat": 4,
 "nbformat_minor": 1
}
