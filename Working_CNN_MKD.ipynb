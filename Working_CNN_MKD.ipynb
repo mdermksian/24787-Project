{
 "cells": [
  {
   "cell_type": "code",
   "execution_count": 1,
   "metadata": {
    "colab": {
     "base_uri": "https://localhost:8080/"
    },
    "executionInfo": {
     "elapsed": 190408,
     "status": "ok",
     "timestamp": 1605899795993,
     "user": {
      "displayName": "Michael Dermksian",
      "photoUrl": "",
      "userId": "14270846950039046636"
     },
     "user_tz": 300
    },
    "id": "5egb7MvRyOli",
    "outputId": "6ff40403-a78c-4bbf-f473-fdb9481c6558"
   },
   "outputs": [
    {
     "name": "stdout",
     "output_type": "stream",
     "text": [
      "Found 1396 images belonging to 5 classes.\n",
      "Found 348 images belonging to 5 classes.\n"
     ]
    }
   ],
   "source": [
    "import tensorflow as tf\n",
    "import numpy as np\n",
    "from tensorflow.keras import layers\n",
    "import matplotlib.pyplot as plt\n",
    "from PIL import Image\n",
    "import os, sys\n",
    "from keras.optimizers import SGD\n",
    "import tensorflow.compat.v1.keras.backend as K\n",
    "from keras.models import Sequential\n",
    "from keras.layers import Dense, Conv2D, MaxPooling2D, Dropout, Flatten\n",
    "from keras.optimizers import Adam\n",
    "from tensorflow.keras.preprocessing.image import ImageDataGenerator\n",
    "\n",
    "img_height = 560\n",
    "img_width = 372\n",
    "batch_size = 50\n",
    "train_data_dir = \"./DATASET\"\n",
    "\n",
    "train_datagen = ImageDataGenerator(\n",
    "#     rescale=1./255,\n",
    "#     shear_range=0.2,\n",
    "#     zoom_range=0.2,\n",
    "#     horizontal_flip=True,\n",
    "    validation_split=0.2) # set validation split\n",
    "\n",
    "train_generator = train_datagen.flow_from_directory(\n",
    "    train_data_dir,\n",
    "    target_size=(img_height, img_width),\n",
    "    batch_size=batch_size,\n",
    "    class_mode='binary',\n",
    "    subset='training') # set as training data\n",
    "\n",
    "validation_generator = train_datagen.flow_from_directory(\n",
    "    train_data_dir, # same directory as training data\n",
    "    target_size=(img_height, img_width),\n",
    "    batch_size=batch_size,\n",
    "    class_mode='binary',\n",
    "    subset='validation') # set as validation data\n",
    "\n",
    "num_classes = 5"
   ]
  },
  {
   "cell_type": "code",
   "execution_count": 3,
   "metadata": {
    "colab": {
     "base_uri": "https://localhost:8080/"
    },
    "id": "00Y3EZN1kfEx",
    "outputId": "864b1c00-01d3-4be0-93a5-5ab28b5f89f6"
   },
   "outputs": [
    {
     "ename": "AttributeError",
     "evalue": "module 'tensorflow.keras.layers' has no attribute 'Maxout'",
     "output_type": "error",
     "traceback": [
      "\u001b[1;31m---------------------------------------------------------------------------\u001b[0m",
      "\u001b[1;31mAttributeError\u001b[0m                            Traceback (most recent call last)",
      "\u001b[1;32m<ipython-input-3-6cb090d51009>\u001b[0m in \u001b[0;36m<module>\u001b[1;34m\u001b[0m\n\u001b[0;32m     22\u001b[0m   \u001b[0mlayers\u001b[0m\u001b[1;33m.\u001b[0m\u001b[0mDropout\u001b[0m\u001b[1;33m(\u001b[0m\u001b[1;36m.30\u001b[0m\u001b[1;33m)\u001b[0m\u001b[1;33m,\u001b[0m\u001b[1;33m\u001b[0m\u001b[1;33m\u001b[0m\u001b[0m\n\u001b[0;32m     23\u001b[0m   \u001b[0mlayers\u001b[0m\u001b[1;33m.\u001b[0m\u001b[0mDense\u001b[0m\u001b[1;33m(\u001b[0m\u001b[1;36m1024\u001b[0m\u001b[1;33m,\u001b[0m \u001b[0mactivation\u001b[0m\u001b[1;33m=\u001b[0m\u001b[1;34m'relu'\u001b[0m\u001b[1;33m)\u001b[0m\u001b[1;33m,\u001b[0m\u001b[1;33m\u001b[0m\u001b[1;33m\u001b[0m\u001b[0m\n\u001b[1;32m---> 24\u001b[1;33m   \u001b[0mlayers\u001b[0m\u001b[1;33m.\u001b[0m\u001b[0mMaxout\u001b[0m\u001b[1;33m(\u001b[0m\u001b[1;36m512\u001b[0m\u001b[1;33m)\u001b[0m\u001b[1;33m,\u001b[0m\u001b[1;33m\u001b[0m\u001b[1;33m\u001b[0m\u001b[0m\n\u001b[0m\u001b[0;32m     25\u001b[0m   \u001b[0mlayers\u001b[0m\u001b[1;33m.\u001b[0m\u001b[0mDropout\u001b[0m\u001b[1;33m(\u001b[0m\u001b[1;36m.30\u001b[0m\u001b[1;33m)\u001b[0m\u001b[1;33m,\u001b[0m\u001b[1;33m\u001b[0m\u001b[1;33m\u001b[0m\u001b[0m\n\u001b[0;32m     26\u001b[0m   \u001b[0mlayers\u001b[0m\u001b[1;33m.\u001b[0m\u001b[0mDense\u001b[0m\u001b[1;33m(\u001b[0m\u001b[1;36m1024\u001b[0m\u001b[1;33m,\u001b[0m \u001b[0mactivation\u001b[0m\u001b[1;33m=\u001b[0m\u001b[1;34m'relu'\u001b[0m\u001b[1;33m)\u001b[0m\u001b[1;33m,\u001b[0m\u001b[1;33m\u001b[0m\u001b[1;33m\u001b[0m\u001b[0m\n",
      "\u001b[1;31mAttributeError\u001b[0m: module 'tensorflow.keras.layers' has no attribute 'Maxout'"
     ]
    }
   ],
   "source": [
    "#Model 1\n",
    "\n",
    "model = tf.keras.Sequential([\n",
    "#   layers.experimental.preprocessing.Rescaling(1./255, input_shape=(330, 335, 3)),\n",
    "  layers.Conv2D(32, kernel_size =(4,4),strides=(2,2), input_shape=(img_height,img_width,3), activation='relu', padding= 'same'),\n",
    "  layers.Conv2D(32, kernel_size =(4,4),strides=(1,1), activation='relu', padding= 'same'),\n",
    "  layers.MaxPooling2D((3,3),strides=(2,2)),\n",
    "  layers.Conv2D(64, kernel_size =(4,4),strides=(2,2), activation='relu', padding= 'same'),\n",
    "  layers.Conv2D(64, kernel_size =(4,4),strides=(1,1), activation='relu', padding= 'same'),\n",
    "  layers.Conv2D(64, kernel_size =(4,4),strides=(1,1), activation='relu', padding= 'same'),\n",
    "  layers.MaxPooling2D((3,3),strides=(2,2)),\n",
    "  layers.Conv2D(128, kernel_size =(4,4),strides=(1,1), activation='relu', padding= 'same'),\n",
    "  layers.Conv2D(128, kernel_size =(4,4),strides=(1,1), activation='relu', padding= 'same'),\n",
    "  layers.Conv2D(128, kernel_size =(4,4),strides=(1,1), activation='relu', padding= 'same'),\n",
    "  layers.MaxPooling2D((3,3),strides=(2,2)),\n",
    "  layers.Conv2D(256, kernel_size =(4,4),strides=(1,1), activation='relu', padding= 'same'),\n",
    "  layers.Conv2D(256, kernel_size =(4,4),strides=(1,1), activation='relu', padding= 'same'),\n",
    "  layers.Conv2D(256, kernel_size =(4,4),strides=(1,1), activation='relu', padding= 'same'),\n",
    "  layers.MaxPooling2D((3,3),strides=(2,2)),\n",
    "  layers.Conv2D(512, kernel_size =(4,4),strides=(1,1), activation='relu', padding= 'same'),\n",
    "  layers.MaxPooling2D((3,3),strides=(2,2)),\n",
    "  layers.Dropout(.30),\n",
    "  layers.Dense(1024, activation='relu'),\n",
    "  layers.Maxout(512),\n",
    "  layers.Dropout(.30),\n",
    "  layers.Dense(1024, activation='relu'),\n",
    "  layers.Maxout(512),\n",
    "  layers.Dense(num_classes,activation='softmax')\n",
    "])\n",
    "opt = SGD(lr=0.001)\n",
    "model.compile(\n",
    "  optimizer= opt,\n",
    "  loss=tf.losses.SparseCategoricalCrossentropy(from_logits=True),\n",
    "  metrics=['accuracy'])\n",
    "\n",
    "model.summary()\n",
    "\n",
    "model.fit(\n",
    "    train_generator,\n",
    "#     steps_per_epoch = train_generator.samples // batch_size,\n",
    "    validation_data = validation_generator, \n",
    "#     validation_steps = validation_generator.samples // batch_size,\n",
    "    epochs = 300)\n",
    "\n",
    "#score = model.evaluate(X_test, Y_test, verbose=1)"
   ]
  }
 ],
 "metadata": {
  "accelerator": "GPU",
  "colab": {
   "collapsed_sections": [],
   "name": "Working_CNN_MKD.ipynb",
   "provenance": []
  },
  "kernelspec": {
   "display_name": "Python 3",
   "language": "python",
   "name": "python3"
  },
  "language_info": {
   "codemirror_mode": {
    "name": "ipython",
    "version": 3
   },
   "file_extension": ".py",
   "mimetype": "text/x-python",
   "name": "python",
   "nbconvert_exporter": "python",
   "pygments_lexer": "ipython3",
   "version": "3.7.6"
  }
 },
 "nbformat": 4,
 "nbformat_minor": 1
}
