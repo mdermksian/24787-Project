{
 "cells": [
  {
   "cell_type": "code",
   "execution_count": 45,
   "metadata": {},
   "outputs": [],
   "source": [
    "import shutil\n",
    "import os\n",
    "import pandas as pd\n",
    "import numpy as np\n",
    "\n",
    "data = pd.read_csv('./DATASET/messidor_data.csv')\n",
    "data = data.to_numpy()\n",
    "\n",
    "data = data[~np.isnan(data[:,1].tolist()), :]\n",
    "\n",
    "for i in range(data.shape[0]):\n",
    "    string_int_label = str(int(data[i,1]))\n",
    "    os.makedirs('./DATASET/'+string_int_label, exist_ok=True)\n",
    "    shutil.copy2(\"./IMAGES/\"+data[i,0], \"./DATASET/\"+string_int_label)"
   ]
  }
 ],
 "metadata": {
  "kernelspec": {
   "display_name": "Python 3",
   "language": "python",
   "name": "python3"
  },
  "language_info": {
   "codemirror_mode": {
    "name": "ipython",
    "version": 3
   },
   "file_extension": ".py",
   "mimetype": "text/x-python",
   "name": "python",
   "nbconvert_exporter": "python",
   "pygments_lexer": "ipython3",
   "version": "3.7.6"
  }
 },
 "nbformat": 4,
 "nbformat_minor": 4
}
